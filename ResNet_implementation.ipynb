{
  "nbformat": 4,
  "nbformat_minor": 0,
  "metadata": {
    "colab": {
      "name": "ResNet implementation.ipynb",
      "provenance": [],
      "authorship_tag": "ABX9TyMyeu6uJWnukmHpu/Njj93M",
      "include_colab_link": true
    },
    "kernelspec": {
      "name": "python3",
      "display_name": "Python 3"
    },
    "language_info": {
      "name": "python"
    }
  },
  "cells": [
    {
      "cell_type": "markdown",
      "metadata": {
        "id": "view-in-github",
        "colab_type": "text"
      },
      "source": [
        "<a href=\"https://colab.research.google.com/github/omar178/resenet-implementation/blob/main/ResNet_implementation.ipynb\" target=\"_parent\"><img src=\"https://colab.research.google.com/assets/colab-badge.svg\" alt=\"Open In Colab\"/></a>"
      ]
    },
    {
      "cell_type": "code",
      "metadata": {
        "id": "Tv-xTd5RK-BU"
      },
      "source": [
        "import torch\n",
        "from torch import Tensor\n",
        "import torch.nn as nn"
      ],
      "execution_count": 1,
      "outputs": []
    },
    {
      "cell_type": "code",
      "metadata": {
        "id": "yUOlIUGLNV2J"
      },
      "source": [
        "def conv3x3(in_planes: int, out_planes: int, stride: int = 1, groups: int = 1, dilation: int = 1) -> nn.Conv2d:\n",
        "    \"\"\"3x3 convolution with padding\"\"\"\n",
        "    return nn.Conv2d(in_planes, out_planes, kernel_size=3, stride=stride,\n",
        "                     padding=dilation, groups=groups, bias=False, dilation=dilation)\n",
        "\n",
        "\n",
        "def conv1x1(in_planes: int, out_planes: int, stride: int = 1) -> nn.Conv2d:\n",
        "    \"\"\"1x1 convolution\"\"\"\n",
        "    return nn.Conv2d(in_planes, out_planes, kernel_size=1, stride=stride, bias=False)\n",
        "\n",
        "class Block(nn.Module):\n",
        "    def __init__(self,nums_layers,in_channels,out_channels,identity=None,stride=1):\n",
        "          super(Block, self).__init__()\n",
        "          if nums_layers > 34:\n",
        "              self.expansion = 4\n",
        "              self.conv1 = conv1x1(in_channels,out_channels,stride)\n",
        "          else:\n",
        "              self.expansion = 1\n",
        "              self.conv1 = conv3x3(in_channels,out_channels,stride)\n",
        "          self.bn = nn.BatchNorm2d(out_channels)\n",
        "          self.relu = nn.ReLU(inplace=True)\n",
        "          self.conv2 = conv3x3(out_channels,out_channels,stride)\n",
        "          self.bn1 = nn.BatchNorm2d(out_channels)\n",
        "          self.identity = identity\n",
        "    def forward(self,x):\n",
        "        out = self.conv1(x)\n",
        "        out = self.bn1(out)\n",
        "        out = self.relu(out)\n",
        "\n",
        "        out = self.conv2(out)\n",
        "        out = self.bn2(out)\n",
        "        out = self.relu(out)\n",
        "\n",
        "        out = self.conv3(out)\n",
        "        out = self.bn3(out)\n",
        "        if self.identity:\n",
        "            self.identity = conv1x1(x)\n",
        "        out+= self.identity \n",
        "        out = self.relu(out)\n",
        "        return out \n",
        "\n",
        "\n",
        "class ResNet(nn.Module):\n",
        "    def __init__(self, num_layers, block,input_channels, num_classes):\n",
        "        assert num_layers in [18, 34, 50, 101, 152], f'ResNet{num_layers}: Unknown architecture! Number of layers has ' \\\n",
        "                                                     f'to be 18, 34, 50, 101, or 152 '\n",
        "        super(ResNet, self).__init__()\n",
        "        self.infeature_maps = 64 # number of feature maps\n",
        "        self.dilation = 1\n",
        "        # input channels colored images 3 channels\n",
        "        self.input_channels = input_channels\n",
        "        self.num_classes = num_classes\n",
        "        if num_layers == 18:\n",
        "          # number of layers in the 4 groups \n",
        "            layers = [2, 2, 2, 2]\n",
        "        elif num_layers == 34 or num_layers == 50:\n",
        "            layers = [3, 4, 6, 3]\n",
        "        elif num_layers == 101:\n",
        "            layers = [3, 4, 23, 3]\n",
        "        else:\n",
        "            layers = [3, 8, 36, 3]        \n",
        "\n",
        "        self.conv1 = nn.Conv2d(in_channels = self.input_channels,out_channels=self.infeature_maps ,kernel_size=7,stride=2,padding=3,dilation=self.dilation)\n",
        "        self.bn1 = nn.BatchNorm2d(64)\n",
        "        self.relu = nn.ReLU()\n",
        "        self.maxpool = nn.MaxPool2d(kernel_size=3, stride=2, padding=1)\n",
        "        self.group1 = self._make_layer(block, 64, layers[0])\n",
        "        self.group2 = self._make_layer(block,128,layer[1])\n",
        "        self.group3 = self._make_layer(block,256,layer[2])\n",
        "        self.group4 = self._make_layer(block,512,layer[3])\n",
        "        self.avgpool = nn.AdaptiveAvgPool2d((1, 1))\n",
        "        self.fc = nn.Linear(512 * block.expansion, num_classes)\n",
        "    def _make_layer(block,outplanes,n_blocks,stride = 1):\n",
        "        downsample = None\n",
        "        out_channels = outplanes\n",
        "        norm_layer = self._norm_layer\n",
        "        downsample = None\n",
        "        previous_dilation = self.dilation\n",
        "        if dilate:\n",
        "            self.dilation *= stride\n",
        "            stride = 1\n",
        "        if stride != 1 or self.inplanes != planes * block.expansion:\n",
        "            downsample = nn.Sequential(\n",
        "                conv1x1(self.inplanes, planes * block.expansion, stride),\n",
        "                norm_layer(planes * block.expansion),\n",
        "            )\n",
        "\n",
        "        layers = []\n",
        "        for i in range(n_blocks):\n",
        "            layers.append(block(nums_layers= nums_layers,in_channels = self.input_channels,out_channels = out_channels,downsample = downsample,stride = stride))\n",
        "        return nn.Sequential(*layers)\n",
        "        \n",
        "    def forward(self,x):\n",
        "        x = self.conv1(x)\n",
        "        x = self.bn1(x)\n",
        "        x = self.relu(x)\n",
        "        x = self.maxpool(x)\n",
        "\n",
        "        x = self.layer1(x)\n",
        "        x = self.layer2(x)\n",
        "        x = self.layer3(x)\n",
        "        x = self.layer4(x)\n",
        "\n",
        "        x = self.avgpool(x)\n",
        "        x = torch.flatten(x, 1)\n",
        "        x = self.fc(x)\n",
        "\n",
        "        return x\n",
        "\n",
        "\n",
        "            \n",
        "\n",
        "\n",
        "\n",
        "\n",
        "\n"
      ],
      "execution_count": 9,
      "outputs": []
    },
    {
      "cell_type": "code",
      "metadata": {
        "id": "XtX2NgcSdgIa"
      },
      "source": [
        ""
      ],
      "execution_count": null,
      "outputs": []
    }
  ]
}